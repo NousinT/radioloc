{
 "cells": [
  {
   "cell_type": "markdown",
   "metadata": {},
   "source": [
    "TODO list:\n",
    "\n",
    "- test communication with all servos at once\n",
    "- separate power supply for servos\n",
    "- mount secure brace onto servos\n",
    "- mount servos onto wood or something\n",
    "- plot angles/samples"
   ]
  },
  {
   "cell_type": "code",
   "execution_count": 1,
   "metadata": {
    "collapsed": false
   },
   "outputs": [],
   "source": [
    "from __future__ import division\n",
    "\n",
    "import serial\n",
    "import numpy as np\n",
    "from collections import defaultdict\n",
    "import Queue\n",
    "import time\n",
    "import threading\n",
    "import matplotlib.pyplot as plt\n",
    "%matplotlib inline\n",
    "\n",
    "from rtlsdr import RtlSdr, librtlsdr, helpers"
   ]
  },
  {
   "cell_type": "code",
   "execution_count": 12,
   "metadata": {
    "collapsed": true
   },
   "outputs": [],
   "source": [
    "# function to compute average power spectrum\n",
    "def avgPS( x, N=256, fs=1):\n",
    "    M = np.floor(len(x)/N)\n",
    "    x_ = np.reshape(x[:M*N],(M,N)) * np.hamming(N)[None,:]\n",
    "    X = np.fft.fftshift(np.fft.fft(x_,axis=1),axes=1)\n",
    "    return np.r_[-N/2.0:N/2.0]/N*fs, np.mean(abs(X**2),axis=0)\n",
    "\n",
    "def maxPower(x, N=256, fs=1, M=None):\n",
    "    M = np.floor(len(x)/N)\n",
    "    x_ = np.reshape(x[:M*N],(M,N)) * np.hamming(N)[None,:]\n",
    "    X = np.fft.fftshift(np.fft.fft(x_,axis=1),axes=1)\n",
    "    return abs(X**2).T.max(axis=0)\n",
    "\n",
    "# Plot an image of the spectrogram y, with the axis labeled with time tl,\n",
    "# and frequency fl\n",
    "#\n",
    "# t_range -- time axis label, nt samples\n",
    "# f_range -- frequency axis label, nf samples\n",
    "# y -- spectrogram, nf by nt array\n",
    "# dbf -- Dynamic range of the spect\n",
    "\n",
    "def sg_plot( t_range, f_range, y, dbf = 60) :\n",
    "    eps = 1e-3\n",
    "    \n",
    "    # find maximum\n",
    "    y_max = abs(y).max()\n",
    "    \n",
    "    # compute 20*log magnitude, scaled to the max\n",
    "    y_log = 20.0 * np.log10( abs( y ) / y_max + eps )\n",
    "    \n",
    "    fig=plt.figure(figsize=(15,6))\n",
    "    \n",
    "    plt.imshow( np.flipud( 64.0*(y_log + dbf)/dbf ), extent= t_range  + f_range ,cmap=plt.cm.gray, aspect='auto')\n",
    "    plt.xlabel('Time, s')\n",
    "    plt.ylabel('Frequency, Hz')\n",
    "    plt.tight_layout()\n",
    "\n",
    "\n",
    "def myspectrogram_hann_ovlp(x, m, fs, fc,dbf = 60):\n",
    "    # Plot the spectrogram of x.\n",
    "    # First take the original signal x and split it into blocks of length m\n",
    "    # This corresponds to using a rectangular window %\n",
    "    isreal_bool = np.isreal(x).all()\n",
    "    \n",
    "    # pad x up to a multiple of m \n",
    "    lx = len(x);\n",
    "    nt = (lx + m - 1) // m\n",
    "    x = np.append(x,np.zeros(-lx+nt*m))\n",
    "    x = x.reshape((m/2,nt*2), order='F')\n",
    "    x = np.concatenate((x,x),axis=0)\n",
    "    x = x.reshape((m*nt*2,1),order='F')\n",
    "    x = x[np.r_[m//2:len(x),np.ones(m//2)*(len(x)-1)].astype(int)].reshape((m,nt*2),order='F')\n",
    "    \n",
    "    \n",
    "    xmw = x * np.hanning(m)[:,None];\n",
    "    \n",
    "    \n",
    "    # frequency index\n",
    "    t_range = [0.0, lx / fs]\n",
    "    \n",
    "    if isreal_bool:\n",
    "        f_range = [ fc, fs / 2.0 + fc]\n",
    "        xmf = np.fft.fft(xmw,len(xmw),axis=0)\n",
    "        sg_plot(t_range, f_range, xmf[0:m/2,:],dbf=dbf)\n",
    "        print 1\n",
    "    else:\n",
    "        f_range = [-fs / 2.0 + fc, fs / 2.0 + fc]\n",
    "        xmf = np.fft.fftshift( np.fft.fft( xmw ,len(xmw),axis=0), axes=0 )\n",
    "        sg_plot(t_range, f_range, xmf,dbf = dbf)\n",
    "    \n",
    "    return t_range, f_range, xmf"
   ]
  },
  {
   "cell_type": "code",
   "execution_count": 4,
   "metadata": {
    "collapsed": false
   },
   "outputs": [],
   "source": [
    "class Servos:\n",
    "    \"\"\"\n",
    "    Commands servos via serial port\n",
    "    \"\"\"\n",
    "    \n",
    "    def __init__(self, num_servos, port, baudrate=115200, offset=0.0):\n",
    "        self.offset = offset\n",
    "        self.min_angle = -np.pi/4.\n",
    "        self.max_angle = np.pi/4.\n",
    "        \n",
    "        self.num_servos = num_servos\n",
    "        self.serial = serial.Serial(port, baudrate=baudrate)\n",
    "        self.curr_angles = [0]*self.num_servos\n",
    "        self.set_angles(self.curr_angles)\n",
    "    \n",
    "    def is_valid_angles(self, angles):\n",
    "        is_valid = len(angles) == self.num_servos\n",
    "        for angle in angles:\n",
    "            is_valid = is_valid and (self.min_angle <= angle <= self.max_angle)\n",
    "            if not is_valid:\n",
    "                print('WARNING: angle {0} not in [{1},{2}]'.format(angle, self.min_angle, self.max_angle))\n",
    "        return is_valid\n",
    "    \n",
    "    def get_angles(self):\n",
    "        return list(self.curr_angles)\n",
    "        \n",
    "    def set_angles(self, des_angles, speed=None, fs=100.):\n",
    "        \"\"\"\n",
    "        :param des_angle: desired angles (radians). None means don't move\n",
    "        :param speed: if None, go as fast as possible. Else rad/s\n",
    "        :param fs: if speed is not None, command discretization\n",
    "        \"\"\"\n",
    "        des_angles = list(des_angles)\n",
    "        for i, des_angle in enumerate(des_angles):\n",
    "            if des_angle is None:\n",
    "                des_angles[i] = self.curr_angles[i]\n",
    "        \n",
    "        if speed is None:\n",
    "            self.write(des_angles)\n",
    "        else:\n",
    "            angle_trajs = list()\n",
    "            # create trajectories\n",
    "            for curr_angle, des_angle in zip(self.curr_angles, des_angles):\n",
    "                sign = 1 if des_angle > curr_angle else -1\n",
    "                angle_traj = [curr_angle] + list(np.r_[curr_angle:des_angle:sign*speed/fs])\n",
    "                angle_trajs.append(angle_traj)\n",
    "            \n",
    "            # make them all the same length\n",
    "            max_angle_traj_len = max(len(traj) for traj in angle_trajs)\n",
    "            for i, traj in enumerate(angle_trajs):\n",
    "                pad_len = max_angle_traj_len - len(traj)\n",
    "                if pad_len > 0:\n",
    "                    angle_trajs[i] = np.pad(np.array(traj), (1, pad_len-1), 'edge')\n",
    "                \n",
    "            angle_trajs = np.array(angle_trajs).T\n",
    "            for angles in angle_trajs:\n",
    "                self.write(angles, fs)\n",
    "            \n",
    "    def write(self, angles, fs=100.):\n",
    "        \"\"\"\n",
    "        :param angles: list of desired angles\n",
    "        :param fs: how long to sleep between writes\n",
    "        \"\"\"\n",
    "        if not self.is_valid_angles(angles):\n",
    "            return\n",
    "        \n",
    "        write_str = ''\n",
    "        for i, angle in enumerate(angles):\n",
    "            if angle is None:\n",
    "                angle = self.curr_angles[i]\n",
    "            write_str = '{0}{1:.2f}\\n'.format(i, self.offset+angle)\n",
    "            self.serial.write(write_str)\n",
    "            time.sleep(1/(self.num_servos*fs))\n",
    "            self.curr_angles[i] = angle\n",
    "        \n",
    "servos = Servos(3, '/dev/ttyACM1')"
   ]
  },
  {
   "cell_type": "code",
   "execution_count": 6,
   "metadata": {
    "collapsed": false
   },
   "outputs": [
    {
     "name": "stdout",
     "output_type": "stream",
     "text": [
      "Expected time: 0.99\n",
      "Elapsed: 1.17069911957\n"
     ]
    }
   ],
   "source": [
    "#####################\n",
    "# Test ServosSerial #\n",
    "#####################\n",
    "\n",
    "curr_angles = servos.get_angles()\n",
    "des_angles = [0., 0., 0.]\n",
    "speed = 0.5\n",
    "expected_time = abs(des_angles[0] - curr_angles[0])/speed\n",
    "\n",
    "start = time.time()\n",
    "servos.set_angles(des_angles, speed=speed)\n",
    "end = time.time()\n",
    "\n",
    "print('Expected time: {0}'.format(expected_time))\n",
    "print('Elapsed: {0}'.format(end - start))"
   ]
  },
  {
   "cell_type": "code",
   "execution_count": 8,
   "metadata": {
    "collapsed": false
   },
   "outputs": [],
   "source": [
    "class SDRs:\n",
    "    \"\"\"\n",
    "    Functionality for multiple SDRs (non-blocking)\n",
    "    \"\"\"\n",
    "    def __init__(self, rtlsdrs, fc, fs=2.4e6, gain=0.1):\n",
    "        self.rtlsdrs = rtlsdrs\n",
    "        for rtlsdr in self.rtlsdrs:\n",
    "            if rtlsdr is None:\n",
    "                continue\n",
    "            rtlsdr.sample_rate = fs\n",
    "            rtlsdr.center_freq = fc\n",
    "            rtlsdr.gain = gain\n",
    "            \n",
    "        self.fs = fs\n",
    "            \n",
    "        # for asynchronous reads\n",
    "        self.read_queues = [Queue.Queue() for _ in self.rtlsdrs]\n",
    "        self.read_run_flags = [False]*len(self.rtlsdrs)\n",
    "        self.read_is_stoppeds = [False]*len(self.rtlsdrs)\n",
    "        self.read_threads = [None]*len(self.rtlsdrs)\n",
    "        \n",
    "    \n",
    "    def start_read(self, ith):\n",
    "        if self.read_run_flags[ith] or self.rtlsdrs[ith] is None:\n",
    "            return\n",
    "        \n",
    "        self.read_run_flags[ith] = True\n",
    "        self.read_threads[ith] = threading.Thread(target=self.run, args=(ith,))\n",
    "        self.read_threads[ith].daemon = True\n",
    "        self.read_threads[ith].start()                 \n",
    "    \n",
    "    def stop_read(self, ith):\n",
    "        if not self.read_run_flags[ith] or self.rtlsdrs[ith] is None:\n",
    "            return\n",
    "\n",
    "        self.read_run_flags[ith] = False\n",
    "        \n",
    "        while not self.read_is_stoppeds[ith]:\n",
    "            time.sleep(0.2)\n",
    "        self.read_is_stoppeds[ith] = False\n",
    "        \n",
    "        x = []\n",
    "        while not self.read_queues[ith].empty():\n",
    "            x += self.read_queues[ith].get()\n",
    "        return np.array(x)\n",
    "    \n",
    "    def run(self, ith, read_slice=0.1):\n",
    "        num_samples = 256 * ((read_slice * self.fs) // 256)\n",
    "        \n",
    "        while self.read_run_flags[ith]:\n",
    "            samples = self.rtlsdrs[ith].read_samples(num_samples)\n",
    "            self.read_queues[ith].put(list(samples))\n",
    "            \n",
    "        self.read_is_stoppeds[ith] = True\n",
    "    \n",
    "    \"\"\"\n",
    "    def start_read(self, ith):\n",
    "        if self.read_run_flags[ith] or self.rtlsdrs[ith] is None:\n",
    "            return\n",
    "        \n",
    "        self.read_run_flags[ith] = True\n",
    "        self.read_threads[ith] = threading.Thread(target=self.run, args=(ith,))\n",
    "        self.read_threads[ith].daemon = True\n",
    "        self.read_threads[ith].start()                 \n",
    "    \n",
    "    def stop_read(self, ith):\n",
    "        if not self.read_run_flags[ith] or self.rtlsdrs[ith] is None:\n",
    "            return\n",
    "        \n",
    "        try:\n",
    "            self.rtlsdrs[ith].cancel_read_async()\n",
    "        except Exception as e:\n",
    "            print('stop_read exception: {0}'.format(e))\n",
    "        self.read_run_flags[ith] = False\n",
    "        \n",
    "        while not self.read_is_stoppeds[ith]:\n",
    "            time.sleep(0.2)\n",
    "        self.read_is_stoppeds[ith] = False\n",
    "        \n",
    "        x = []\n",
    "        while not self.read_queues[ith].empty():\n",
    "            x += self.read_queues[ith].get()\n",
    "        return np.array(x)\n",
    "    \n",
    "    def run(self, ith, M=8*1024):\n",
    "        def read_cb(samples, q):\n",
    "            try:\n",
    "                q.put(list(samples)) # TODO: makes everything faster?\n",
    "            except Exception as e:\n",
    "                print('read_cb exception: {0}'.format(e))\n",
    "            \n",
    "        try:\n",
    "            self.rtlsdrs[ith].read_samples_async(read_cb, M, context=self.read_queues[ith])\n",
    "        except Exception as e:\n",
    "            print(e)\n",
    "        self.read_is_stoppeds[ith] = True\n",
    "    \"\"\"\n",
    "    \n",
    "#RtlSdr.DEFAULT_ASYNC_BUF_NUMBER = 16\n",
    "#RtlSdr.DEFAULT_READ_SIZE = 64\n",
    "num_sdrs = 3\n",
    "if 'rtlsdrs' not in locals():\n",
    "    rtlsdrs = [None]*num_sdrs\n",
    "for i in xrange(librtlsdr.rtlsdr_get_device_count()):\n",
    "    try:\n",
    "        rtlsdrs[i] = RtlSdr(i)\n",
    "    except:\n",
    "        rtlsdrs[i].close()\n",
    "        rtlsdrs[i] = RtlSdr(i)\n",
    "        \n",
    "fc = 145.6e6\n",
    "sdrs = SDRs(rtlsdrs, fc)"
   ]
  },
  {
   "cell_type": "code",
   "execution_count": 9,
   "metadata": {
    "collapsed": false
   },
   "outputs": [
    {
     "name": "stdout",
     "output_type": "stream",
     "text": [
      "Start reading\n",
      "Sleeping...\n",
      "Stop reading\n",
      "len(x): 1679104\n"
     ]
    }
   ],
   "source": [
    "#############\n",
    "# Test SDRs #\n",
    "#############\n",
    "print('Start reading')\n",
    "sdrs.start_read(0)\n",
    "print('Sleeping...')\n",
    "time.sleep(1)\n",
    "print('Stop reading')\n",
    "x = np.array([])\n",
    "x = sdrs.stop_read(0)\n",
    "print('len(x): {0}'.format(len(x)))"
   ]
  },
  {
   "cell_type": "code",
   "execution_count": 60,
   "metadata": {
    "collapsed": false
   },
   "outputs": [],
   "source": [
    "class ServosSDRs:\n",
    "    \"\"\"\n",
    "    Command servos and read from SDRs\n",
    "    \"\"\"\n",
    "    def __init__(self, servos, sdrs):\n",
    "        self.servos = servos\n",
    "        self.sdrs = sdrs\n",
    "        \n",
    "        self.speed = np.pi/3.\n",
    "        self.run_flag = False\n",
    "        self.is_stopped = False\n",
    "        self.angles_and_samples = [Queue.Queue() for _ in xrange(self.servos.num_servos)]\n",
    "        \n",
    "    def start(self, speed=None):\n",
    "        if self.run_flag:\n",
    "            return\n",
    "        \n",
    "        if speed is not None:\n",
    "            self.speed = speed\n",
    "        \n",
    "        self.angles_and_samples = [Queue.Queue() for _ in xrange(self.servos.num_servos)]\n",
    "        \n",
    "        self.run_flag = True\n",
    "        self.thread = threading.Thread(target=self.run, args=())\n",
    "        self.thread.daemon = True\n",
    "        self.thread.start()                 \n",
    "    \n",
    "    def stop(self):\n",
    "        if not self.run_flag:\n",
    "            return\n",
    "        \n",
    "        self.run_flag = False\n",
    "        \n",
    "        while not self.is_stopped:\n",
    "            time.sleep(0.2)\n",
    "        self.is_stopped = False\n",
    "        \n",
    "    def run(self, fs=200.):\n",
    "        num_exceptions = 0\n",
    "        self.servos.set_angles([self.servos.max_angle]*self.servos.num_servos, speed=self.speed, fs=fs)\n",
    "        \n",
    "        start_angle, end_angle = self.servos.max_angle, self.servos.min_angle\n",
    "        while self.run_flag:\n",
    "            try:\n",
    "                # record, command servos, compute angles/power\n",
    "                for i in xrange(self.servos.num_servos):\n",
    "                    self.sdrs.start_read(i)\n",
    "                self.servos.set_angles([end_angle]*self.servos.num_servos, speed=self.speed, fs=fs)\n",
    "                for i in xrange(self.servos.num_servos):\n",
    "                    samples = self.sdrs.stop_read(i)\n",
    "                    if samples is not None:\n",
    "                        angles = np.linspace(start_angle, end_angle, len(samples))\n",
    "                        self.angles_and_samples[i].put([angles, samples])\n",
    "                start_angle, end_angle = end_angle, start_angle\n",
    "            except Exception as e:\n",
    "                num_exceptions += 1\n",
    "                print('ServosSdr.run exception: {0}'.format(e))\n",
    "                \n",
    "                if num_exceptions > 5:\n",
    "                    break\n",
    "            \n",
    "        self.is_stopped = True\n",
    "        \n",
    "    def get_angles_and_samples(self, ith):\n",
    "        \"\"\" For ith sdr, return oldest angle/sample if exists, else None \"\"\"\n",
    "        if not self.angles_and_samples[i].empty():\n",
    "            return self.angles_and_samples[i].get()\n",
    "            \n",
    "servos_sdrs = ServosSDRs(servos, sdrs)"
   ]
  },
  {
   "cell_type": "code",
   "execution_count": 38,
   "metadata": {
    "collapsed": false
   },
   "outputs": [
    {
     "ename": "NameError",
     "evalue": "name 'servos_sdrs' is not defined",
     "output_type": "error",
     "traceback": [
      "\u001b[1;31m---------------------------------------------------------------------------\u001b[0m",
      "\u001b[1;31mNameError\u001b[0m                                 Traceback (most recent call last)",
      "\u001b[1;32m<ipython-input-38-1d41bb43d4ec>\u001b[0m in \u001b[0;36m<module>\u001b[1;34m()\u001b[0m\n\u001b[0;32m      7\u001b[0m \u001b[0mtime\u001b[0m\u001b[1;33m.\u001b[0m\u001b[0msleep\u001b[0m\u001b[1;33m(\u001b[0m\u001b[1;36m0.5\u001b[0m\u001b[1;33m)\u001b[0m\u001b[1;33m\u001b[0m\u001b[0m\n\u001b[0;32m      8\u001b[0m \u001b[1;33m\u001b[0m\u001b[0m\n\u001b[1;32m----> 9\u001b[1;33m \u001b[0mservos_sdrs\u001b[0m\u001b[1;33m.\u001b[0m\u001b[0mstart\u001b[0m\u001b[1;33m(\u001b[0m\u001b[1;33m)\u001b[0m\u001b[1;33m\u001b[0m\u001b[0m\n\u001b[0m\u001b[0;32m     10\u001b[0m \u001b[1;32mprint\u001b[0m\u001b[1;33m(\u001b[0m\u001b[1;34m'Press enter to stop'\u001b[0m\u001b[1;33m)\u001b[0m\u001b[1;33m\u001b[0m\u001b[0m\n\u001b[0;32m     11\u001b[0m \u001b[0mraw_input\u001b[0m\u001b[1;33m(\u001b[0m\u001b[1;33m)\u001b[0m\u001b[1;33m\u001b[0m\u001b[0m\n",
      "\u001b[1;31mNameError\u001b[0m: name 'servos_sdrs' is not defined"
     ]
    }
   ],
   "source": [
    "###################\n",
    "# Test ServosSDRs #\n",
    "###################\n",
    "\n",
    "ham = serial.Serial('/dev/ttyUSB0')\n",
    "ham.setDTR(1)\n",
    "time.sleep(0.5)\n",
    "\n",
    "servos_sdrs.start()\n",
    "print('Press enter to stop')\n",
    "raw_input()\n",
    "servos_sdrs.stop()        \n",
    "\n",
    "ham.setDTR(0)"
   ]
  },
  {
   "cell_type": "code",
   "execution_count": 112,
   "metadata": {
    "collapsed": false
   },
   "outputs": [
    {
     "name": "stdout",
     "output_type": "stream",
     "text": [
      "num_rots: 3\n"
     ]
    },
    {
     "data": {
      "image/png": "[encoded data removed]",
      "text/plain": [
       "<matplotlib.figure.Figure at 0x7fc5e9b4a890>"
      ]
     },
     "metadata": {},
     "output_type": "display_data"
    },
    {
     "data": {
      "image/png": "[encoded data removed]",
      "text/plain": [
       "<matplotlib.figure.Figure at 0x7fc5e90d55d0>"
      ]
     },
     "metadata": {},
     "output_type": "display_data"
    },
    {
     "data": {
      "image/png": "[encoded data removed]",
      "text/plain": [
       "<matplotlib.figure.Figure at 0x7fc5e9788d10>"
      ]
     },
     "metadata": {},
     "output_type": "display_data"
    }
   ],
   "source": [
    "num_rots = 0\n",
    "q = servos_sdrs.angles_and_samples[0]\n",
    "while not q.empty():\n",
    "    #angles, mp = q.get()\n",
    "    angles, samples = q.get()\n",
    "    mp = maxPower(samples)\n",
    "    angles = np.linspace(angles[0], angles[-1], len(mp))\n",
    "    f = plt.figure()\n",
    "    plt.plot(angles, mp)\n",
    "    num_rots += 1\n",
    "print('num_rots: {0}'.format(num_rots))"
   ]
  },
  {
   "cell_type": "code",
   "execution_count": 18,
   "metadata": {
    "collapsed": false
   },
   "outputs": [],
   "source": [
    "#####################################\n",
    "# Test shielding makes a difference #\n",
    "#####################################\n",
    "\n",
    "ham = serial.Serial('/dev/ttyUSB0')\n",
    "ham.setDTR(1)\n",
    "time.sleep(0.5)\n",
    "\n",
    "\"\"\"\n",
    "fs = 2400000\n",
    "fc = 145.6e6 \n",
    "try:\n",
    "    sdr = RtlSdr()\n",
    "except:\n",
    "    sdr.close()\n",
    "    sdr = RtlSdr()\n",
    "sdr.sample_rate = fs\n",
    "sdr.center_freq = fc\n",
    "sdr.gain = 0.1 # 20 without antenna, 0.1 with\n",
    "\n",
    "N_samples = 2560000*4 # approximately seconds\n",
    "data = sdr.read_samples(N_samples)\n",
    "\"\"\"\n",
    "\n",
    "sdrs.start_read(0)\n",
    "time.sleep(8)\n",
    "data = sdrs.stop_read(0)\n",
    "\n",
    "\n",
    "ham.setDTR(0)"
   ]
  },
  {
   "cell_type": "code",
   "execution_count": 19,
   "metadata": {
    "collapsed": false
   },
   "outputs": [
    {
     "data": {
      "text/plain": [
       "[<matplotlib.lines.Line2D at 0x7f1806898810>]"
      ]
     },
     "execution_count": 19,
     "metadata": {},
     "output_type": "execute_result"
    },
    {
     "data": {
      "image/png": "[encoded data removed]",
      "text/plain": [
       "<matplotlib.figure.Figure at 0x7f1806898a50>"
      ]
     },
     "metadata": {},
     "output_type": "display_data"
    }
   ],
   "source": [
    "mp = maxPower(data)\n",
    "\n",
    "M = int(sdrs.fs/5e2) # 5000\n",
    "if M % 2 == 0:\n",
    "    M -= 1\n",
    "w = np.hanning(M)\n",
    "mp_smooth = np.convolve(np.hstack((mp[:M/2],mp,mp[-M/2:])), w/w.sum(), 'valid')\n",
    "assert(len(mp) == len(mp_smooth))\n",
    "\n",
    "plt.plot(mp, 'b-')\n",
    "plt.plot(mp_smooth, 'r-', linewidth=2)"
   ]
  }
 ],
 "metadata": {
  "kernelspec": {
   "display_name": "Python 2",
   "language": "python",
   "name": "python2"
  },
  "language_info": {
   "codemirror_mode": {
    "name": "ipython",
    "version": 2
   },
   "file_extension": ".py",
   "mimetype": "text/x-python",
   "name": "python",
   "nbconvert_exporter": "python",
   "pygments_lexer": "ipython2",
   "version": "2.7.9"
  }
 },
 "nbformat": 4,
 "nbformat_minor": 0
}
