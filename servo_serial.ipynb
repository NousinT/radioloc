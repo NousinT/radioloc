{
 "cells": [
  {
   "cell_type": "markdown",
   "metadata": {},
   "source": [
    "TODO list:\n",
    "\n",
    "- wire all 3 servos reliably\n",
    "- test communication with all servos at once\n",
    "- create mounts on servo arms (small metal piece)"
   ]
  },
  {
   "cell_type": "code",
   "execution_count": 1,
   "metadata": {
    "collapsed": true
   },
   "outputs": [],
   "source": [
    "import serial\n",
    "import numpy as np\n",
    "from collections import defaultdict\n",
    "import time\n",
    "import threading"
   ]
  },
  {
   "cell_type": "code",
   "execution_count": 129,
   "metadata": {
    "collapsed": false
   },
   "outputs": [],
   "source": [
    "class ServosSerial:\n",
    "    def __init__(self, num_servos, port='/dev/ttyACM0', baudrate=115200, offset=0.0):\n",
    "        self.offset = offset\n",
    "        self.min_angle = -np.pi/4.\n",
    "        self.max_angle = np.pi/4.\n",
    "        \n",
    "        self.num_servos = num_servos\n",
    "        self.serial = serial.Serial(port, baudrate=baudrate)\n",
    "        self.curr_angles = [0]*self.num_servos\n",
    "        self.set_angles(self.curr_angles)\n",
    "            \n",
    "    def is_valid_servo_num(self, servo_num):\n",
    "        is_valid = 0 <= servo_num < self.num_servos\n",
    "        if not is_valid:\n",
    "            print('WARNING: servo_num {0} not in [{1}, {2})'.format(servo_num, 0, self.num_servos))\n",
    "        return is_valid\n",
    "    \n",
    "    def is_valid_angles(self, angles):\n",
    "        is_valid = len(angles) == self.num_servos\n",
    "        for angle in angles:\n",
    "            is_valid = is_valid and (self.min_angle <= angle <= self.max_angle)\n",
    "            if not is_valid:\n",
    "                print('WARNING: angle {0} not in [{1},{2}]'.format(angle, self.min_angle, self.max_angle))\n",
    "        return is_valid\n",
    "    \n",
    "    def get_angles(self):\n",
    "        return list(self.curr_angles)\n",
    "        \n",
    "    def set_angles(self, des_angles, speed=None, fs=100.):\n",
    "        \"\"\"\n",
    "        :param des_angle: desired angles (radians). None means don't move\n",
    "        :param speed: if None, go as fast as possible. Else rad/s\n",
    "        :param fs: if speed is not None, command discretization\n",
    "        \"\"\"\n",
    "        des_angles = list(des_angles)\n",
    "        for i, des_angle in enumerate(des_angles):\n",
    "            if des_angle is None:\n",
    "                des_angles[i] = self.curr_angles[i]\n",
    "        \n",
    "        if speed is None:\n",
    "            self.write(des_angles)\n",
    "        else:            \n",
    "            angle_trajs = list()\n",
    "            # create trajectories\n",
    "            for curr_angle, des_angle in zip(self.curr_angles, des_angles):\n",
    "                sign = 1 if des_angle > curr_angle else -1\n",
    "                angle_traj = [curr_angle] + list(np.r_[curr_angle:des_angle:sign*speed/fs])\n",
    "                angle_trajs.append(angle_traj)\n",
    "            \n",
    "            # make them all the same length\n",
    "            max_angle_traj_len = max(len(traj) for traj in angle_trajs)\n",
    "            for i, traj in enumerate(angle_trajs):\n",
    "                pad_len = max_angle_traj_len - len(traj)\n",
    "                if pad_len > 0:\n",
    "                    angle_trajs[i] = np.pad(np.array(traj), (1, pad_len-1), 'edge')\n",
    "                \n",
    "            angle_trajs = np.array(angle_trajs).T\n",
    "            for angles in angle_trajs:\n",
    "                self.write(angles)\n",
    "            \n",
    "    def write(self, angles, fs=100.):\n",
    "        if not self.is_valid_angles(angles):\n",
    "            return\n",
    "        \n",
    "        write_str = ''\n",
    "        for i, angle in enumerate(angles):\n",
    "            if angle is None:\n",
    "                angle = self.curr_angles[i]\n",
    "            write_str = '{0}{1}\\n'.format(i, self.offset+angle)\n",
    "            self.serial.write(write_str)\n",
    "            time.sleep(1/(3*fs))\n",
    "            self.curr_angles[i] = angle\n",
    "        \n",
    "servos = ServosSerial(3)"
   ]
  },
  {
   "cell_type": "code",
   "execution_count": 130,
   "metadata": {
    "collapsed": false
   },
   "outputs": [
    {
     "name": "stdout",
     "output_type": "stream",
     "text": [
      "Expected time: 0.0\n",
      "Elapsed: 0.0114212036133\n"
     ]
    }
   ],
   "source": [
    "curr_angles = servos.get_angles()\n",
    "des_angles = [0., 0., 0.]\n",
    "speed = 0.5\n",
    "expected_time = abs(des_angles[0] - curr_angles[0])/speed\n",
    "\n",
    "start = time.time()\n",
    "servos.set_angles(des_angles, speed=speed)\n",
    "end = time.time()\n",
    "\n",
    "print('Expected time: {0}'.format(expected_time))\n",
    "print('Elapsed: {0}'.format(end - start))"
   ]
  },
  {
   "cell_type": "code",
   "execution_count": 161,
   "metadata": {
    "collapsed": true
   },
   "outputs": [],
   "source": [
    "class ServosSDRs:\n",
    "    def __init__(self, servos, sdrs):\n",
    "        self.servos = servos\n",
    "        self.sdrs = sdrs\n",
    "        \n",
    "        self.speed = np.pi/4.\n",
    "        self.run_flag = False\n",
    "        self.is_stopped = False\n",
    "        \n",
    "    def start(self, speed=None):\n",
    "        if self.run_flag:\n",
    "            return\n",
    "        \n",
    "        if speed is not None:\n",
    "            self.speed = speed\n",
    "        \n",
    "        self.run_flag = True\n",
    "        self.thread = threading.Thread(target=self.run, args=())\n",
    "        self.thread.daemon = True                            # Daemonize thread\n",
    "        self.thread.start()                 \n",
    "    \n",
    "    def stop(self):\n",
    "        if not self.run_flag:\n",
    "            return\n",
    "        \n",
    "        self.run_flag = False\n",
    "        \n",
    "        while not self.is_stopped:\n",
    "            time.sleep(0.2)\n",
    "        self.is_stopped = False\n",
    "    \n",
    "    def run(self, fs=200.):\n",
    "        # TODO: add SDR reading\n",
    "        while self.run_flag:\n",
    "            self.servos.set_angles([self.servos.min_angle]*self.servos.num_servos, speed=self.speed, fs=fs)\n",
    "            if not self.run_flag:\n",
    "                break\n",
    "            self.servos.set_angles([self.servos.max_angle]*self.servos.num_servos, speed=self.speed, fs=fs)\n",
    "            \n",
    "        self.is_stopped = True\n",
    "            \n",
    "servos_sdrs = ServosSDRs(servos, [None]*servos.num_servos) # TODO: SDR"
   ]
  },
  {
   "cell_type": "code",
   "execution_count": 162,
   "metadata": {
    "collapsed": false
   },
   "outputs": [],
   "source": [
    "servos_sdrs.start()"
   ]
  },
  {
   "cell_type": "code",
   "execution_count": 163,
   "metadata": {
    "collapsed": false
   },
   "outputs": [],
   "source": [
    "servos_sdrs.stop()"
   ]
  }
 ],
 "metadata": {
  "kernelspec": {
   "display_name": "Python 2",
   "language": "python",
   "name": "python2"
  },
  "language_info": {
   "codemirror_mode": {
    "name": "ipython",
    "version": 2
   },
   "file_extension": ".py",
   "mimetype": "text/x-python",
   "name": "python",
   "nbconvert_exporter": "python",
   "pygments_lexer": "ipython2",
   "version": "2.7.9"
  }
 },
 "nbformat": 4,
 "nbformat_minor": 0
}
