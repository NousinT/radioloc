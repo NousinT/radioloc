{
 "cells": [
  {
   "cell_type": "markdown",
   "metadata": {},
   "source": [
    "TODO list:\n",
    "\n",
    "- wire all 3 servos reliably\n",
    "- test communication with all servos at once\n",
    "- create mounts on servo arms (small metal piece)"
   ]
  },
  {
   "cell_type": "code",
   "execution_count": 77,
   "metadata": {
    "collapsed": true
   },
   "outputs": [],
   "source": [
    "import serial\n",
    "import numpy as np\n",
    "from collections import defaultdict\n",
    "import time"
   ]
  },
  {
   "cell_type": "code",
   "execution_count": 151,
   "metadata": {
    "collapsed": false
   },
   "outputs": [],
   "source": [
    "class ServoSerial:\n",
    "    def __init__(self, num_servos, port='/dev/ttyACM0', baudrate=115200, offset=0.0):\n",
    "        self.offset = 0.05\n",
    "        self.min_angle = -np.pi/2.\n",
    "        self.max_angle = np.pi/2.\n",
    "        \n",
    "        self.num_servos = num_servos\n",
    "        self.serial = serial.Serial(port, baudrate=baudrate)\n",
    "        self.curr_angles = defaultdict(float)\n",
    "        for i in xrange(self.num_servos):\n",
    "            self.set_angle(i, self.curr_angles[i])\n",
    "        \n",
    "    def is_valid_servo_num(self, servo_num):\n",
    "        is_valid = 0 <= servo_num <= self.num_servos\n",
    "        if not is_valid:\n",
    "            print('WARNING: servo_num {0} not in [{1}, {2})'.format(servo_num, 0, self.num_servos))\n",
    "        return is_valid\n",
    "    \n",
    "    def is_valid_angle(self, angle):\n",
    "        is_valid = self.min_angle <= angle <= self.max_angle\n",
    "        if not is_valid:\n",
    "            print('WARNING: angle {0} not in [{1},{2}]'.format(angle, self.min_angle, self.max_angle))\n",
    "        return is_valid\n",
    "    \n",
    "    def get_angle(self, servo_num):\n",
    "        if not self.is_valid_servo_num(servo_num):\n",
    "            return\n",
    "        \n",
    "        return self.curr_angles[servo_num]\n",
    "        \n",
    "    def set_angle(self, servo_num, des_angle, speed=None, fs=100.):\n",
    "        \"\"\"\n",
    "        :param servo_num: servo to command\n",
    "        :param des_angle: desired angle (radians)\n",
    "        :param speed: if None, go as fast as possible. Else rad/s\n",
    "        :param fs: if speed is not None, command discretization\n",
    "        \"\"\"\n",
    "        if not (self.is_valid_servo_num(servo_num) and self.is_valid_angle(des_angle)):\n",
    "            return\n",
    "        \n",
    "        if speed is None:\n",
    "            self.serial.write('{0}{1}\\n'.format(servo_num, self.offset+des_angle))\n",
    "        else:\n",
    "            curr_angle = self.curr_angles[servo_num]\n",
    "            sign = 1 if des_angle > curr_angle else -1\n",
    "            angles = np.r_[curr_angle:des_angle:sign*speed/fs]\n",
    "            for angle in angles:\n",
    "                self.serial.write('{0}{1}\\n'.format(servo_num, self.offset+angle))\n",
    "                self.curr_angles[servo_num] = angle\n",
    "                time.sleep(1/fs)\n",
    "                \n",
    "        self.curr_angles[servo_num] = des_angle\n",
    "        \n",
    "s = ServoSerial(1)"
   ]
  },
  {
   "cell_type": "code",
   "execution_count": 150,
   "metadata": {
    "collapsed": false
   },
   "outputs": [
    {
     "name": "stdout",
     "output_type": "stream",
     "text": [
      "Expected time: 1.0\n",
      "Elapsed: 1.04867601395\n"
     ]
    }
   ],
   "source": [
    "curr_angle = s.get_angle(0)\n",
    "des_angle = 0.\n",
    "speed = 0.5\n",
    "expected_time = abs(des_angle - curr_angle)/speed\n",
    "\n",
    "start = time.time()\n",
    "s.set_angle(0, des_angle, speed=speed)\n",
    "end = time.time()\n",
    "\n",
    "print('Expected time: {0}'.format(expected_time))\n",
    "print('Elapsed: {0}'.format(end - start))"
   ]
  }
 ],
 "metadata": {
  "kernelspec": {
   "display_name": "Python 2",
   "language": "python",
   "name": "python2"
  },
  "language_info": {
   "codemirror_mode": {
    "name": "ipython",
    "version": 2
   },
   "file_extension": ".py",
   "mimetype": "text/x-python",
   "name": "python",
   "nbconvert_exporter": "python",
   "pygments_lexer": "ipython2",
   "version": "2.7.9"
  }
 },
 "nbformat": 4,
 "nbformat_minor": 0
}
